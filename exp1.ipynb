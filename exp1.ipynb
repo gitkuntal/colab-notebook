{
  "cells": [
    {
      "cell_type": "markdown",
      "metadata": {
        "colab_type": "text",
        "id": "view-in-github"
      },
      "source": [
        "<a href=\"https://colab.research.google.com/github/gitkuntal/colab-notebook/blob/master/exp1.ipynb\" target=\"_parent\"><img src=\"https://colab.research.google.com/assets/colab-badge.svg\" alt=\"Open In Colab\"/></a>"
      ]
    },
    {
      "cell_type": "code",
      "execution_count": null,
      "metadata": {
        "id": "uMS5ImfieIn9"
      },
      "outputs": [],
      "source": [
        "# Install OpenAI package (if not already installed)\n",
        "%pip install --quiet openai\n",
        "%pip install openai chromadb\n",
        "%pip install -U langchain-community\n",
        "%pip install langchain-openai"
      ]
    },
    {
      "cell_type": "code",
      "execution_count": 3,
      "metadata": {
        "id": "rL-tshLNeJZa"
      },
      "outputs": [],
      "source": [
        "\n",
        "# Import required libraries\n",
        "import getpass\n",
        "from openai import OpenAI\n",
        "\n",
        "# Ask for API key securely (you only need to do this once per Colab session)\n",
        "api_key = getpass.getpass(\"🔑 Enter your OpenAI API Key: \")\n",
        "\n",
        "# Initialize client\n",
        "client = OpenAI(api_key=api_key)"
      ]
    },
    {
      "cell_type": "code",
      "execution_count": 25,
      "metadata": {},
      "outputs": [],
      "source": [
        "\n",
        "import json\n",
        "from langchain.vectorstores import Chroma\n",
        "from langchain_openai import OpenAIEmbeddings\n"
      ]
    },
    {
      "cell_type": "code",
      "execution_count": 28,
      "metadata": {},
      "outputs": [],
      "source": [
        "# Load the JSON\n",
        "with open(\"search_data.json\", \"r\", encoding=\"utf-8\") as f:\n",
        "    search_docs = json.load(f)\n",
        "\n",
        "# Extract texts from search_pages\n",
        "search_texts = [f\"{item['title']} - {item['snippet']}\" for item in search_docs['search_pages']]\n",
        "\n",
        "# Extract texts from pubmed_pages\n",
        "pubmed_texts = [f\"{item['pub_title']} - {item['abstract_snippet']}\" for item in search_docs['pubmed_pages']]\n",
        "\n",
        "\n",
        "\n",
        "# 1. Load doctor_db.json\n",
        "with open(\"doctor_db.json\", \"r\", encoding=\"utf-8\") as f:\n",
        "    doctor_data = json.load(f)\n",
        "\n",
        "doctors = doctor_data[\"doctor_db\"]\n",
        "\n",
        "# 2. Convert doctor info into text format for embeddings\n",
        "doctor_texts = [\n",
        "    f\"Name: {doc['name']}, Specialization: {doc['specialization']}, \"\n",
        "    f\"Available Timings: {doc['available_timings']}, Location: {doc['location']}, \"\n",
        "    f\"Contact: {doc['contact']}\"\n",
        "    for doc in doctors\n",
        "]\n",
        "\n"
      ]
    },
    {
      "cell_type": "code",
      "execution_count": 29,
      "metadata": {},
      "outputs": [],
      "source": [
        "# 2. Create embedding function wrapper for Chroma\n",
        "embeddings_client = OpenAIEmbeddings(\n",
        "    api_key=api_key,\n",
        "    model=\"text-embedding-3-small\"\n",
        ")"
      ]
    },
    {
      "cell_type": "code",
      "execution_count": 30,
      "metadata": {},
      "outputs": [
        {
          "name": "stdout",
          "output_type": "stream",
          "text": [
            "✅ Web search database embedded into Chroma successfully!\n",
            "✅ Pubmed database embedded into Chroma successfully!\n",
            "✅ Doctor database embedded into Chroma successfully!\n"
          ]
        }
      ],
      "source": [
        "\n",
        "# Build Chroma collection from search_pages\n",
        "web_search_db = Chroma.from_texts(\n",
        "    search_texts,\n",
        "    embedding=embeddings_client,\n",
        "    collection_name=\"web_search_db_demo2\"\n",
        ")\n",
        "print(\"✅ Web search database embedded into Chroma successfully!\")\n",
        "\n",
        "# Build another collection from pubmed_pages (optional)\n",
        "pubmed_db = Chroma.from_texts(\n",
        "    pubmed_texts,\n",
        "    embedding=embeddings_client,\n",
        "    collection_name=\"pubmed_db_demo2\"\n",
        ")\n",
        "print(\"✅ Pubmed database embedded into Chroma successfully!\")\n",
        "\n",
        "# 3. Create Chroma collection with doctor_db\n",
        "doctor_db = Chroma.from_texts(\n",
        "    texts=doctor_texts,\n",
        "    embedding=embeddings_client,\n",
        "    collection_name=\"doctor_db_demo2\"\n",
        ")\n",
        "\n",
        "print(\"✅ Doctor database embedded into Chroma successfully!\")"
      ]
    },
    {
      "cell_type": "code",
      "execution_count": 31,
      "metadata": {},
      "outputs": [
        {
          "name": "stdout",
          "output_type": "stream",
          "text": [
            "1. Diabetes mellitus: The epidemic of the century - Diabetes mellitus is a group of metabolic diseases characterized by chronic hyperglycemia resulting from defects in insulin secretion, insulin action, or both.\n",
            "\n",
            "2. Diabetes mellitus: The epidemic of the century - Diabetes mellitus is a group of metabolic diseases characterized by chronic hyperglycemia resulting from defects in insulin secretion, insulin action, or both.\n",
            "\n"
          ]
        }
      ],
      "source": [
        "query = \"What are the complications of diabetes?\"\n",
        "results = web_search_db.similarity_search(query, k=2)\n",
        "\n",
        "for i, res in enumerate(results, 1):\n",
        "    print(f\"{i}. {res.page_content}\\n\")"
      ]
    },
    {
      "cell_type": "code",
      "execution_count": 32,
      "metadata": {},
      "outputs": [
        {
          "name": "stdout",
          "output_type": "stream",
          "text": [
            "1. The burden and risks of emerging complications associated with diabetes mellitus - This article discusses evidence for the emergence of a different set of complications associated with diabetes mellitus from the traditional ones. These include increased risks of non‐vascular complications such as cancer, infections, neurodegenerative diseases, and liver disease in patients with long‐standing hyperglycemia.\n",
            "\n",
            "2. The burden and risks of emerging complications associated with diabetes mellitus - This article discusses evidence for the emergence of a different set of complications associated with diabetes mellitus from the traditional ones. These include increased risks of non‐vascular complications such as cancer, infections, neurodegenerative diseases, and liver disease in patients with long‐standing hyperglycemia.\n",
            "\n"
          ]
        }
      ],
      "source": [
        "query = \"What are the complications of diabetes?\"\n",
        "results = pubmed_db.similarity_search(query, k=2)\n",
        "\n",
        "for i, res in enumerate(results, 1):\n",
        "    print(f\"{i}. {res.page_content}\\n\")\n"
      ]
    },
    {
      "cell_type": "code",
      "execution_count": 33,
      "metadata": {},
      "outputs": [
        {
          "name": "stdout",
          "output_type": "stream",
          "text": [
            "1. Name: Dr. Rajesh Sharma, Specialization: Diabetologist, Available Timings: Tue-Sat, 10 AM - 5 PM, Location: Fortis Hospital, Mumbai, Contact: rajesh.sharma@fortisdoc.in\n",
            "\n",
            "2. Name: Dr. Rajesh Sharma, Specialization: Diabetologist, Available Timings: Tue-Sat, 10 AM - 5 PM, Location: Fortis Hospital, Mumbai, Contact: rajesh.sharma@fortisdoc.in\n",
            "\n",
            "3. Name: Dr. Nikhil Verma, Specialization: Diabetologist, Available Timings: Mon-Wed-Fri, 9 AM - 12 PM, Location: Ruby Hall Clinic, Pune, Contact: nikhil.verma@rubyhall.org\n",
            "\n"
          ]
        }
      ],
      "source": [
        "# 5. Example query\n",
        "#query = \"What are the complications of diabetes?\"\n",
        "query = \"Which doctors specialize in diabetology?\"\n",
        "results = doctor_db.similarity_search(query, k=3)\n",
        "\n",
        "for i, res in enumerate(results, 1):\n",
        "    print(f\"{i}. {res.page_content}\\n\")"
      ]
    },
    {
      "cell_type": "code",
      "execution_count": 34,
      "metadata": {},
      "outputs": [],
      "source": [
        "from langchain.agents import tool\n",
        "from langchain.schema import Document\n",
        "\n",
        "@tool(\"web_search_tool\", return_direct=False)\n",
        "def web_search_tool(query: str) -> str:\n",
        "    \"\"\"Search the Web Search DB for information about diabetes and related topics.\"\"\"\n",
        "    results = web_search_db.similarity_search(query, k=3)\n",
        "    return \"\\n\\n\".join([doc.page_content for doc in results])\n",
        "\n",
        "@tool(\"pubmed_tool\", return_direct=False)\n",
        "def pubmed_tool(query: str) -> str:\n",
        "    \"\"\"Search the PubMed DB for scientific research on diabetes.\"\"\"\n",
        "    results = pubmed_db.similarity_search(query, k=3)\n",
        "    return \"\\n\\n\".join([doc.page_content for doc in results])\n",
        "\n",
        "@tool(\"doctor_db_tool\", return_direct=False)\n",
        "def doctor_db_tool(query: str) -> str:\n",
        "    \"\"\"Search the Doctor DB for information about doctors, specializations, timings, and locations.\"\"\"\n",
        "    results = doctor_db.similarity_search(query, k=3)\n",
        "    return \"\\n\\n\".join([doc.page_content for doc in results])\n"
      ]
    },
    {
      "cell_type": "code",
      "execution_count": 36,
      "metadata": {},
      "outputs": [],
      "source": [
        "from langchain_openai import ChatOpenAI\n",
        "from langchain.agents import initialize_agent, AgentType\n",
        "\n",
        "# Define LLM\n",
        "llm = ChatOpenAI(\n",
        "    model=\"gpt-4o-mini\",\n",
        "    temperature=0,\n",
        "    api_key=api_key\n",
        ")\n",
        "\n",
        "# Collect tools\n",
        "tools = [web_search_tool, pubmed_tool, doctor_db_tool]\n",
        "\n",
        "# Create agent\n",
        "agent = initialize_agent(\n",
        "    tools=tools,\n",
        "    llm=llm,\n",
        "    agent=AgentType.ZERO_SHOT_REACT_DESCRIPTION,\n",
        "    verbose=True\n",
        ")\n"
      ]
    },
    {
      "cell_type": "code",
      "execution_count": 37,
      "metadata": {},
      "outputs": [
        {
          "name": "stdout",
          "output_type": "stream",
          "text": [
            "\n",
            "\n",
            "\u001b[1m> Entering new AgentExecutor chain...\u001b[0m\n",
            "\u001b[32;1m\u001b[1;3mI need to gather information on the complications of diabetes through scientific research and also find a specialist doctor in Delhi who focuses on endocrinology. \n",
            "\n",
            "Action: pubmed_tool  \n",
            "Action Input: \"complications of diabetes\"  \u001b[0m\n",
            "Observation: \u001b[33;1m\u001b[1;3mThe burden and risks of emerging complications associated with diabetes mellitus - This article discusses evidence for the emergence of a different set of complications associated with diabetes mellitus from the traditional ones. These include increased risks of non‐vascular complications such as cancer, infections, neurodegenerative diseases, and liver disease in patients with long‐standing hyperglycemia.\n",
            "\n",
            "The burden and risks of emerging complications associated with diabetes mellitus - This article discusses evidence for the emergence of a different set of complications associated with diabetes mellitus from the traditional ones. These include increased risks of non‐vascular complications such as cancer, infections, neurodegenerative diseases, and liver disease in patients with long‐standing hyperglycemia.\n",
            "\n",
            "Diabetes mellitus: Classification, mediators, and therapeutic challenges - Diabetes mellitus is defined by persistent hyperglycemia and is commonly classified into type 1, type 2, gestational diabetes and other specific types. Key mediators include insulin resistance, β-cell dysfunction, inflammation, and lipid dysregulation. Managing these factors remains central to therapy.\u001b[0m\n",
            "Thought:\u001b[32;1m\u001b[1;3mI have gathered relevant research articles discussing the complications associated with diabetes, including emerging non-vascular complications. Now, I need to find a doctor in Delhi who specializes in endocrinology.\n",
            "\n",
            "Action: doctor_db_tool  \n",
            "Action Input: \"endocrinologist in Delhi\"  \u001b[0m\n",
            "Observation: \u001b[38;5;200m\u001b[1;3mName: Dr. Anjali Mehta, Specialization: Endocrinologist, Available Timings: Mon-Fri, 9 AM - 2 PM, Location: Apollo Hospital, Delhi, Contact: anjali.mehta@endoclinic.com\n",
            "\n",
            "Name: Dr. Anjali Mehta, Specialization: Endocrinologist, Available Timings: Mon-Fri, 9 AM - 2 PM, Location: Apollo Hospital, Delhi, Contact: anjali.mehta@endoclinic.com\n",
            "\n",
            "Name: Dr. Arvind Nair, Specialization: Endocrinologist, Available Timings: Mon-Fri, 8 AM - 1 PM, Location: AIIMS, New Delhi, Contact: arvind.nair@aiimsmed.edu\u001b[0m\n",
            "Thought:\u001b[32;1m\u001b[1;3mI have found two endocrinologists in Delhi. Now I can summarize the research findings and provide the doctor recommendations.\n",
            "\n",
            "Final Answer: Research indicates that diabetes can lead to various complications, including emerging non-vascular issues such as cancer, infections, neurodegenerative diseases, and liver disease, particularly in patients with long-standing hyperglycemia. \n",
            "\n",
            "For endocrinology specialists in Delhi, you can consider:\n",
            "1. Dr. Anjali Mehta - Available Mon-Fri, 9 AM - 2 PM at Apollo Hospital, Delhi. Contact: anjali.mehta@endoclinic.com\n",
            "2. Dr. Arvind Nair - Available Mon-Fri, 8 AM - 1 PM at AIIMS, New Delhi. Contact: arvind.nair@aiimsmed.edu\u001b[0m\n",
            "\n",
            "\u001b[1m> Finished chain.\u001b[0m\n",
            "{'input': 'Find me research about complications of diabetes and also suggest a doctor in Delhi who specializes in endocrinology.', 'output': 'Research indicates that diabetes can lead to various complications, including emerging non-vascular issues such as cancer, infections, neurodegenerative diseases, and liver disease, particularly in patients with long-standing hyperglycemia. \\n\\nFor endocrinology specialists in Delhi, you can consider:\\n1. Dr. Anjali Mehta - Available Mon-Fri, 9 AM - 2 PM at Apollo Hospital, Delhi. Contact: anjali.mehta@endoclinic.com\\n2. Dr. Arvind Nair - Available Mon-Fri, 8 AM - 1 PM at AIIMS, New Delhi. Contact: arvind.nair@aiimsmed.edu'}\n"
          ]
        }
      ],
      "source": [
        "response = agent.invoke(\"Find me research about complications of diabetes and also suggest a doctor in Delhi who specializes in endocrinology.\")\n",
        "print(response)\n"
      ]
    },
    {
      "cell_type": "code",
      "execution_count": 38,
      "metadata": {},
      "outputs": [
        {
          "name": "stdout",
          "output_type": "stream",
          "text": [
            "Research indicates that diabetes can lead to various complications, including emerging non-vascular issues such as cancer, infections, neurodegenerative diseases, and liver disease, particularly in patients with long-standing hyperglycemia. \n",
            "\n",
            "For endocrinology specialists in Delhi, you can consider:\n",
            "1. Dr. Anjali Mehta - Available Mon-Fri, 9 AM - 2 PM at Apollo Hospital, Delhi. Contact: anjali.mehta@endoclinic.com\n",
            "2. Dr. Arvind Nair - Available Mon-Fri, 8 AM - 1 PM at AIIMS, New Delhi. Contact: arvind.nair@aiimsmed.edu\n"
          ]
        }
      ],
      "source": [
        "print(response[\"output\"])"
      ]
    }
  ],
  "metadata": {
    "colab": {
      "authorship_tag": "ABX9TyPWZLERrWpIWDMMGGc75oPQ",
      "include_colab_link": true,
      "provenance": []
    },
    "kernelspec": {
      "display_name": ".venv (3.13.7)",
      "language": "python",
      "name": "python3"
    },
    "language_info": {
      "codemirror_mode": {
        "name": "ipython",
        "version": 3
      },
      "file_extension": ".py",
      "mimetype": "text/x-python",
      "name": "python",
      "nbconvert_exporter": "python",
      "pygments_lexer": "ipython3",
      "version": "3.13.7"
    }
  },
  "nbformat": 4,
  "nbformat_minor": 0
}
