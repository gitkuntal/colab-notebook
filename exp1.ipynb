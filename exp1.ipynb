{
  "cells": [
    {
      "cell_type": "markdown",
      "metadata": {
        "colab_type": "text",
        "id": "view-in-github"
      },
      "source": [
        "<a href=\"https://colab.research.google.com/github/gitkuntal/colab-notebook/blob/master/exp1.ipynb\" target=\"_parent\"><img src=\"https://colab.research.google.com/assets/colab-badge.svg\" alt=\"Open In Colab\"/></a>"
      ]
    },
    {
      "cell_type": "code",
      "execution_count": 1,
      "metadata": {
        "id": "uMS5ImfieIn9"
      },
      "outputs": [
        {
          "name": "stdout",
          "output_type": "stream",
          "text": [
            "Note: you may need to restart the kernel to use updated packages.\n",
            "Requirement already satisfied: openai in .\\.venv\\lib\\site-packages (1.107.3)\n",
            "Requirement already satisfied: chromadb in .\\.venv\\lib\\site-packages (1.1.0)\n",
            "Requirement already satisfied: anyio<5,>=3.5.0 in .\\.venv\\lib\\site-packages (from openai) (4.10.0)\n",
            "Requirement already satisfied: distro<2,>=1.7.0 in .\\.venv\\lib\\site-packages (from openai) (1.9.0)\n",
            "Requirement already satisfied: httpx<1,>=0.23.0 in .\\.venv\\lib\\site-packages (from openai) (0.28.1)\n",
            "Requirement already satisfied: jiter<1,>=0.4.0 in .\\.venv\\lib\\site-packages (from openai) (0.11.0)\n",
            "Requirement already satisfied: pydantic<3,>=1.9.0 in .\\.venv\\lib\\site-packages (from openai) (2.11.9)\n",
            "Requirement already satisfied: sniffio in .\\.venv\\lib\\site-packages (from openai) (1.3.1)\n",
            "Requirement already satisfied: tqdm>4 in .\\.venv\\lib\\site-packages (from openai) (4.67.1)\n",
            "Requirement already satisfied: typing-extensions<5,>=4.11 in .\\.venv\\lib\\site-packages (from openai) (4.15.0)\n",
            "Requirement already satisfied: idna>=2.8 in .\\.venv\\lib\\site-packages (from anyio<5,>=3.5.0->openai) (3.10)\n",
            "Requirement already satisfied: certifi in .\\.venv\\lib\\site-packages (from httpx<1,>=0.23.0->openai) (2025.8.3)\n",
            "Requirement already satisfied: httpcore==1.* in .\\.venv\\lib\\site-packages (from httpx<1,>=0.23.0->openai) (1.0.9)\n",
            "Requirement already satisfied: h11>=0.16 in .\\.venv\\lib\\site-packages (from httpcore==1.*->httpx<1,>=0.23.0->openai) (0.16.0)\n",
            "Requirement already satisfied: annotated-types>=0.6.0 in .\\.venv\\lib\\site-packages (from pydantic<3,>=1.9.0->openai) (0.7.0)\n",
            "Requirement already satisfied: pydantic-core==2.33.2 in .\\.venv\\lib\\site-packages (from pydantic<3,>=1.9.0->openai) (2.33.2)\n",
            "Requirement already satisfied: typing-inspection>=0.4.0 in .\\.venv\\lib\\site-packages (from pydantic<3,>=1.9.0->openai) (0.4.1)\n",
            "Requirement already satisfied: build>=1.0.3 in .\\.venv\\lib\\site-packages (from chromadb) (1.3.0)\n",
            "Requirement already satisfied: pybase64>=1.4.1 in .\\.venv\\lib\\site-packages (from chromadb) (1.4.2)\n",
            "Requirement already satisfied: uvicorn>=0.18.3 in .\\.venv\\lib\\site-packages (from uvicorn[standard]>=0.18.3->chromadb) (0.35.0)\n",
            "Requirement already satisfied: numpy>=1.22.5 in .\\.venv\\lib\\site-packages (from chromadb) (2.3.3)\n",
            "Requirement already satisfied: posthog<6.0.0,>=2.4.0 in .\\.venv\\lib\\site-packages (from chromadb) (5.4.0)\n",
            "Requirement already satisfied: onnxruntime>=1.14.1 in .\\.venv\\lib\\site-packages (from chromadb) (1.22.1)\n",
            "Requirement already satisfied: opentelemetry-api>=1.2.0 in .\\.venv\\lib\\site-packages (from chromadb) (1.37.0)\n",
            "Requirement already satisfied: opentelemetry-exporter-otlp-proto-grpc>=1.2.0 in .\\.venv\\lib\\site-packages (from chromadb) (1.37.0)\n",
            "Requirement already satisfied: opentelemetry-sdk>=1.2.0 in .\\.venv\\lib\\site-packages (from chromadb) (1.37.0)\n",
            "Requirement already satisfied: tokenizers>=0.13.2 in .\\.venv\\lib\\site-packages (from chromadb) (0.22.0)\n",
            "Requirement already satisfied: pypika>=0.48.9 in .\\.venv\\lib\\site-packages (from chromadb) (0.48.9)\n",
            "Requirement already satisfied: overrides>=7.3.1 in .\\.venv\\lib\\site-packages (from chromadb) (7.7.0)\n",
            "Requirement already satisfied: importlib-resources in .\\.venv\\lib\\site-packages (from chromadb) (6.5.2)\n",
            "Requirement already satisfied: grpcio>=1.58.0 in .\\.venv\\lib\\site-packages (from chromadb) (1.75.0)\n",
            "Requirement already satisfied: bcrypt>=4.0.1 in .\\.venv\\lib\\site-packages (from chromadb) (4.3.0)\n",
            "Requirement already satisfied: typer>=0.9.0 in .\\.venv\\lib\\site-packages (from chromadb) (0.17.4)\n",
            "Requirement already satisfied: kubernetes>=28.1.0 in .\\.venv\\lib\\site-packages (from chromadb) (33.1.0)\n",
            "Requirement already satisfied: tenacity>=8.2.3 in .\\.venv\\lib\\site-packages (from chromadb) (9.1.2)\n",
            "Requirement already satisfied: pyyaml>=6.0.0 in .\\.venv\\lib\\site-packages (from chromadb) (6.0.2)\n",
            "Requirement already satisfied: mmh3>=4.0.1 in .\\.venv\\lib\\site-packages (from chromadb) (5.2.0)\n",
            "Requirement already satisfied: orjson>=3.9.12 in .\\.venv\\lib\\site-packages (from chromadb) (3.11.3)\n",
            "Requirement already satisfied: rich>=10.11.0 in .\\.venv\\lib\\site-packages (from chromadb) (14.1.0)\n",
            "Requirement already satisfied: jsonschema>=4.19.0 in .\\.venv\\lib\\site-packages (from chromadb) (4.25.1)\n",
            "Requirement already satisfied: requests<3.0,>=2.7 in .\\.venv\\lib\\site-packages (from posthog<6.0.0,>=2.4.0->chromadb) (2.32.5)\n",
            "Requirement already satisfied: six>=1.5 in .\\.venv\\lib\\site-packages (from posthog<6.0.0,>=2.4.0->chromadb) (1.17.0)\n",
            "Requirement already satisfied: python-dateutil>=2.2 in .\\.venv\\lib\\site-packages (from posthog<6.0.0,>=2.4.0->chromadb) (2.9.0.post0)\n",
            "Requirement already satisfied: backoff>=1.10.0 in .\\.venv\\lib\\site-packages (from posthog<6.0.0,>=2.4.0->chromadb) (2.2.1)\n",
            "Requirement already satisfied: charset_normalizer<4,>=2 in .\\.venv\\lib\\site-packages (from requests<3.0,>=2.7->posthog<6.0.0,>=2.4.0->chromadb) (3.4.3)\n",
            "Requirement already satisfied: urllib3<3,>=1.21.1 in .\\.venv\\lib\\site-packages (from requests<3.0,>=2.7->posthog<6.0.0,>=2.4.0->chromadb) (2.5.0)\n",
            "Requirement already satisfied: packaging>=19.1 in .\\.venv\\lib\\site-packages (from build>=1.0.3->chromadb) (25.0)\n",
            "Requirement already satisfied: pyproject_hooks in .\\.venv\\lib\\site-packages (from build>=1.0.3->chromadb) (1.2.0)\n",
            "Requirement already satisfied: colorama in .\\.venv\\lib\\site-packages (from build>=1.0.3->chromadb) (0.4.6)\n",
            "Requirement already satisfied: attrs>=22.2.0 in .\\.venv\\lib\\site-packages (from jsonschema>=4.19.0->chromadb) (25.3.0)\n",
            "Requirement already satisfied: jsonschema-specifications>=2023.03.6 in .\\.venv\\lib\\site-packages (from jsonschema>=4.19.0->chromadb) (2025.9.1)\n",
            "Requirement already satisfied: referencing>=0.28.4 in .\\.venv\\lib\\site-packages (from jsonschema>=4.19.0->chromadb) (0.36.2)\n",
            "Requirement already satisfied: rpds-py>=0.7.1 in .\\.venv\\lib\\site-packages (from jsonschema>=4.19.0->chromadb) (0.27.1)\n",
            "Requirement already satisfied: google-auth>=1.0.1 in .\\.venv\\lib\\site-packages (from kubernetes>=28.1.0->chromadb) (2.40.3)\n",
            "Requirement already satisfied: websocket-client!=0.40.0,!=0.41.*,!=0.42.*,>=0.32.0 in .\\.venv\\lib\\site-packages (from kubernetes>=28.1.0->chromadb) (1.8.0)\n",
            "Requirement already satisfied: requests-oauthlib in .\\.venv\\lib\\site-packages (from kubernetes>=28.1.0->chromadb) (2.0.0)\n",
            "Requirement already satisfied: oauthlib>=3.2.2 in .\\.venv\\lib\\site-packages (from kubernetes>=28.1.0->chromadb) (3.3.1)\n",
            "Requirement already satisfied: durationpy>=0.7 in .\\.venv\\lib\\site-packages (from kubernetes>=28.1.0->chromadb) (0.10)\n",
            "Requirement already satisfied: cachetools<6.0,>=2.0.0 in .\\.venv\\lib\\site-packages (from google-auth>=1.0.1->kubernetes>=28.1.0->chromadb) (5.5.2)\n",
            "Requirement already satisfied: pyasn1-modules>=0.2.1 in .\\.venv\\lib\\site-packages (from google-auth>=1.0.1->kubernetes>=28.1.0->chromadb) (0.4.2)\n",
            "Requirement already satisfied: rsa<5,>=3.1.4 in .\\.venv\\lib\\site-packages (from google-auth>=1.0.1->kubernetes>=28.1.0->chromadb) (4.9.1)\n",
            "Requirement already satisfied: pyasn1>=0.1.3 in .\\.venv\\lib\\site-packages (from rsa<5,>=3.1.4->google-auth>=1.0.1->kubernetes>=28.1.0->chromadb) (0.6.1)\n",
            "Requirement already satisfied: coloredlogs in .\\.venv\\lib\\site-packages (from onnxruntime>=1.14.1->chromadb) (15.0.1)\n",
            "Requirement already satisfied: flatbuffers in .\\.venv\\lib\\site-packages (from onnxruntime>=1.14.1->chromadb) (25.2.10)\n",
            "Requirement already satisfied: protobuf in .\\.venv\\lib\\site-packages (from onnxruntime>=1.14.1->chromadb) (6.32.1)\n",
            "Requirement already satisfied: sympy in .\\.venv\\lib\\site-packages (from onnxruntime>=1.14.1->chromadb) (1.14.0)\n",
            "Requirement already satisfied: importlib-metadata<8.8.0,>=6.0 in .\\.venv\\lib\\site-packages (from opentelemetry-api>=1.2.0->chromadb) (8.7.0)\n",
            "Requirement already satisfied: zipp>=3.20 in .\\.venv\\lib\\site-packages (from importlib-metadata<8.8.0,>=6.0->opentelemetry-api>=1.2.0->chromadb) (3.23.0)\n",
            "Requirement already satisfied: googleapis-common-protos~=1.57 in .\\.venv\\lib\\site-packages (from opentelemetry-exporter-otlp-proto-grpc>=1.2.0->chromadb) (1.70.0)\n",
            "Requirement already satisfied: opentelemetry-exporter-otlp-proto-common==1.37.0 in .\\.venv\\lib\\site-packages (from opentelemetry-exporter-otlp-proto-grpc>=1.2.0->chromadb) (1.37.0)\n",
            "Requirement already satisfied: opentelemetry-proto==1.37.0 in .\\.venv\\lib\\site-packages (from opentelemetry-exporter-otlp-proto-grpc>=1.2.0->chromadb) (1.37.0)\n",
            "Requirement already satisfied: opentelemetry-semantic-conventions==0.58b0 in .\\.venv\\lib\\site-packages (from opentelemetry-sdk>=1.2.0->chromadb) (0.58b0)\n",
            "Requirement already satisfied: markdown-it-py>=2.2.0 in .\\.venv\\lib\\site-packages (from rich>=10.11.0->chromadb) (4.0.0)\n",
            "Requirement already satisfied: pygments<3.0.0,>=2.13.0 in .\\.venv\\lib\\site-packages (from rich>=10.11.0->chromadb) (2.19.2)\n",
            "Requirement already satisfied: mdurl~=0.1 in .\\.venv\\lib\\site-packages (from markdown-it-py>=2.2.0->rich>=10.11.0->chromadb) (0.1.2)\n",
            "Requirement already satisfied: huggingface-hub<1.0,>=0.16.4 in .\\.venv\\lib\\site-packages (from tokenizers>=0.13.2->chromadb) (0.35.0)\n",
            "Requirement already satisfied: filelock in .\\.venv\\lib\\site-packages (from huggingface-hub<1.0,>=0.16.4->tokenizers>=0.13.2->chromadb) (3.19.1)\n",
            "Requirement already satisfied: fsspec>=2023.5.0 in .\\.venv\\lib\\site-packages (from huggingface-hub<1.0,>=0.16.4->tokenizers>=0.13.2->chromadb) (2025.9.0)\n",
            "Requirement already satisfied: click>=8.0.0 in .\\.venv\\lib\\site-packages (from typer>=0.9.0->chromadb) (8.2.1)\n",
            "Requirement already satisfied: shellingham>=1.3.0 in .\\.venv\\lib\\site-packages (from typer>=0.9.0->chromadb) (1.5.4)\n",
            "Requirement already satisfied: httptools>=0.6.3 in .\\.venv\\lib\\site-packages (from uvicorn[standard]>=0.18.3->chromadb) (0.6.4)\n",
            "Requirement already satisfied: python-dotenv>=0.13 in .\\.venv\\lib\\site-packages (from uvicorn[standard]>=0.18.3->chromadb) (1.1.1)\n",
            "Requirement already satisfied: watchfiles>=0.13 in .\\.venv\\lib\\site-packages (from uvicorn[standard]>=0.18.3->chromadb) (1.1.0)\n",
            "Requirement already satisfied: websockets>=10.4 in .\\.venv\\lib\\site-packages (from uvicorn[standard]>=0.18.3->chromadb) (15.0.1)\n",
            "Requirement already satisfied: humanfriendly>=9.1 in .\\.venv\\lib\\site-packages (from coloredlogs->onnxruntime>=1.14.1->chromadb) (10.0)\n",
            "Requirement already satisfied: pyreadline3 in .\\.venv\\lib\\site-packages (from humanfriendly>=9.1->coloredlogs->onnxruntime>=1.14.1->chromadb) (3.5.4)\n",
            "Requirement already satisfied: mpmath<1.4,>=1.1.0 in .\\.venv\\lib\\site-packages (from sympy->onnxruntime>=1.14.1->chromadb) (1.3.0)\n",
            "Note: you may need to restart the kernel to use updated packages.\n",
            "Requirement already satisfied: langchain-community in .\\.venv\\lib\\site-packages (0.3.29)\n",
            "Requirement already satisfied: langchain-core<2.0.0,>=0.3.75 in .\\.venv\\lib\\site-packages (from langchain-community) (0.3.76)\n",
            "Requirement already satisfied: langchain<2.0.0,>=0.3.27 in .\\.venv\\lib\\site-packages (from langchain-community) (0.3.27)\n",
            "Requirement already satisfied: SQLAlchemy<3,>=1.4 in .\\.venv\\lib\\site-packages (from langchain-community) (2.0.43)\n",
            "Requirement already satisfied: requests<3,>=2.32.5 in .\\.venv\\lib\\site-packages (from langchain-community) (2.32.5)\n",
            "Requirement already satisfied: PyYAML>=5.3 in .\\.venv\\lib\\site-packages (from langchain-community) (6.0.2)\n",
            "Requirement already satisfied: aiohttp<4.0.0,>=3.8.3 in .\\.venv\\lib\\site-packages (from langchain-community) (3.12.15)\n",
            "Requirement already satisfied: tenacity!=8.4.0,<10,>=8.1.0 in .\\.venv\\lib\\site-packages (from langchain-community) (9.1.2)\n",
            "Requirement already satisfied: dataclasses-json<0.7,>=0.6.7 in .\\.venv\\lib\\site-packages (from langchain-community) (0.6.7)\n",
            "Requirement already satisfied: pydantic-settings<3.0.0,>=2.10.1 in .\\.venv\\lib\\site-packages (from langchain-community) (2.10.1)\n",
            "Requirement already satisfied: langsmith>=0.1.125 in .\\.venv\\lib\\site-packages (from langchain-community) (0.4.28)\n",
            "Requirement already satisfied: httpx-sse<1.0.0,>=0.4.0 in .\\.venv\\lib\\site-packages (from langchain-community) (0.4.1)\n",
            "Requirement already satisfied: numpy>=2.1.0 in .\\.venv\\lib\\site-packages (from langchain-community) (2.3.3)\n",
            "Requirement already satisfied: aiohappyeyeballs>=2.5.0 in .\\.venv\\lib\\site-packages (from aiohttp<4.0.0,>=3.8.3->langchain-community) (2.6.1)\n",
            "Requirement already satisfied: aiosignal>=1.4.0 in .\\.venv\\lib\\site-packages (from aiohttp<4.0.0,>=3.8.3->langchain-community) (1.4.0)\n",
            "Requirement already satisfied: attrs>=17.3.0 in .\\.venv\\lib\\site-packages (from aiohttp<4.0.0,>=3.8.3->langchain-community) (25.3.0)\n",
            "Requirement already satisfied: frozenlist>=1.1.1 in .\\.venv\\lib\\site-packages (from aiohttp<4.0.0,>=3.8.3->langchain-community) (1.7.0)\n",
            "Requirement already satisfied: multidict<7.0,>=4.5 in .\\.venv\\lib\\site-packages (from aiohttp<4.0.0,>=3.8.3->langchain-community) (6.6.4)\n",
            "Requirement already satisfied: propcache>=0.2.0 in .\\.venv\\lib\\site-packages (from aiohttp<4.0.0,>=3.8.3->langchain-community) (0.3.2)\n",
            "Requirement already satisfied: yarl<2.0,>=1.17.0 in .\\.venv\\lib\\site-packages (from aiohttp<4.0.0,>=3.8.3->langchain-community) (1.20.1)\n",
            "Requirement already satisfied: marshmallow<4.0.0,>=3.18.0 in .\\.venv\\lib\\site-packages (from dataclasses-json<0.7,>=0.6.7->langchain-community) (3.26.1)\n",
            "Requirement already satisfied: typing-inspect<1,>=0.4.0 in .\\.venv\\lib\\site-packages (from dataclasses-json<0.7,>=0.6.7->langchain-community) (0.9.0)\n",
            "Requirement already satisfied: langchain-text-splitters<1.0.0,>=0.3.9 in .\\.venv\\lib\\site-packages (from langchain<2.0.0,>=0.3.27->langchain-community) (0.3.11)\n",
            "Requirement already satisfied: pydantic<3.0.0,>=2.7.4 in .\\.venv\\lib\\site-packages (from langchain<2.0.0,>=0.3.27->langchain-community) (2.11.9)\n",
            "Requirement already satisfied: jsonpatch<2.0,>=1.33 in .\\.venv\\lib\\site-packages (from langchain-core<2.0.0,>=0.3.75->langchain-community) (1.33)\n",
            "Requirement already satisfied: typing-extensions>=4.7 in .\\.venv\\lib\\site-packages (from langchain-core<2.0.0,>=0.3.75->langchain-community) (4.15.0)\n",
            "Requirement already satisfied: packaging>=23.2 in .\\.venv\\lib\\site-packages (from langchain-core<2.0.0,>=0.3.75->langchain-community) (25.0)\n",
            "Requirement already satisfied: jsonpointer>=1.9 in .\\.venv\\lib\\site-packages (from jsonpatch<2.0,>=1.33->langchain-core<2.0.0,>=0.3.75->langchain-community) (3.0.0)\n",
            "Requirement already satisfied: annotated-types>=0.6.0 in .\\.venv\\lib\\site-packages (from pydantic<3.0.0,>=2.7.4->langchain<2.0.0,>=0.3.27->langchain-community) (0.7.0)\n",
            "Requirement already satisfied: pydantic-core==2.33.2 in .\\.venv\\lib\\site-packages (from pydantic<3.0.0,>=2.7.4->langchain<2.0.0,>=0.3.27->langchain-community) (2.33.2)\n",
            "Requirement already satisfied: typing-inspection>=0.4.0 in .\\.venv\\lib\\site-packages (from pydantic<3.0.0,>=2.7.4->langchain<2.0.0,>=0.3.27->langchain-community) (0.4.1)\n",
            "Requirement already satisfied: python-dotenv>=0.21.0 in .\\.venv\\lib\\site-packages (from pydantic-settings<3.0.0,>=2.10.1->langchain-community) (1.1.1)\n",
            "Requirement already satisfied: charset_normalizer<4,>=2 in .\\.venv\\lib\\site-packages (from requests<3,>=2.32.5->langchain-community) (3.4.3)\n",
            "Requirement already satisfied: idna<4,>=2.5 in .\\.venv\\lib\\site-packages (from requests<3,>=2.32.5->langchain-community) (3.10)\n",
            "Requirement already satisfied: urllib3<3,>=1.21.1 in .\\.venv\\lib\\site-packages (from requests<3,>=2.32.5->langchain-community) (2.5.0)\n",
            "Requirement already satisfied: certifi>=2017.4.17 in .\\.venv\\lib\\site-packages (from requests<3,>=2.32.5->langchain-community) (2025.8.3)\n",
            "Requirement already satisfied: greenlet>=1 in .\\.venv\\lib\\site-packages (from SQLAlchemy<3,>=1.4->langchain-community) (3.2.4)\n",
            "Requirement already satisfied: mypy-extensions>=0.3.0 in .\\.venv\\lib\\site-packages (from typing-inspect<1,>=0.4.0->dataclasses-json<0.7,>=0.6.7->langchain-community) (1.1.0)\n",
            "Requirement already satisfied: httpx<1,>=0.23.0 in .\\.venv\\lib\\site-packages (from langsmith>=0.1.125->langchain-community) (0.28.1)\n",
            "Requirement already satisfied: orjson>=3.9.14 in .\\.venv\\lib\\site-packages (from langsmith>=0.1.125->langchain-community) (3.11.3)\n",
            "Requirement already satisfied: requests-toolbelt>=1.0.0 in .\\.venv\\lib\\site-packages (from langsmith>=0.1.125->langchain-community) (1.0.0)\n",
            "Requirement already satisfied: zstandard>=0.23.0 in .\\.venv\\lib\\site-packages (from langsmith>=0.1.125->langchain-community) (0.25.0)\n",
            "Requirement already satisfied: anyio in .\\.venv\\lib\\site-packages (from httpx<1,>=0.23.0->langsmith>=0.1.125->langchain-community) (4.10.0)\n",
            "Requirement already satisfied: httpcore==1.* in .\\.venv\\lib\\site-packages (from httpx<1,>=0.23.0->langsmith>=0.1.125->langchain-community) (1.0.9)\n",
            "Requirement already satisfied: h11>=0.16 in .\\.venv\\lib\\site-packages (from httpcore==1.*->httpx<1,>=0.23.0->langsmith>=0.1.125->langchain-community) (0.16.0)\n",
            "Requirement already satisfied: sniffio>=1.1 in .\\.venv\\lib\\site-packages (from anyio->httpx<1,>=0.23.0->langsmith>=0.1.125->langchain-community) (1.3.1)\n",
            "Note: you may need to restart the kernel to use updated packages.\n",
            "Requirement already satisfied: langchain-openai in .\\.venv\\lib\\site-packages (0.3.33)\n",
            "Requirement already satisfied: langchain-core<1.0.0,>=0.3.76 in .\\.venv\\lib\\site-packages (from langchain-openai) (0.3.76)\n",
            "Requirement already satisfied: openai<2.0.0,>=1.104.2 in .\\.venv\\lib\\site-packages (from langchain-openai) (1.107.3)\n",
            "Requirement already satisfied: tiktoken<1,>=0.7 in .\\.venv\\lib\\site-packages (from langchain-openai) (0.11.0)\n",
            "Requirement already satisfied: langsmith>=0.3.45 in .\\.venv\\lib\\site-packages (from langchain-core<1.0.0,>=0.3.76->langchain-openai) (0.4.28)\n",
            "Requirement already satisfied: tenacity!=8.4.0,<10.0.0,>=8.1.0 in .\\.venv\\lib\\site-packages (from langchain-core<1.0.0,>=0.3.76->langchain-openai) (9.1.2)\n",
            "Requirement already satisfied: jsonpatch<2.0,>=1.33 in .\\.venv\\lib\\site-packages (from langchain-core<1.0.0,>=0.3.76->langchain-openai) (1.33)\n",
            "Requirement already satisfied: PyYAML>=5.3 in .\\.venv\\lib\\site-packages (from langchain-core<1.0.0,>=0.3.76->langchain-openai) (6.0.2)\n",
            "Requirement already satisfied: typing-extensions>=4.7 in .\\.venv\\lib\\site-packages (from langchain-core<1.0.0,>=0.3.76->langchain-openai) (4.15.0)\n",
            "Requirement already satisfied: packaging>=23.2 in .\\.venv\\lib\\site-packages (from langchain-core<1.0.0,>=0.3.76->langchain-openai) (25.0)\n",
            "Requirement already satisfied: pydantic>=2.7.4 in .\\.venv\\lib\\site-packages (from langchain-core<1.0.0,>=0.3.76->langchain-openai) (2.11.9)\n",
            "Requirement already satisfied: jsonpointer>=1.9 in .\\.venv\\lib\\site-packages (from jsonpatch<2.0,>=1.33->langchain-core<1.0.0,>=0.3.76->langchain-openai) (3.0.0)\n",
            "Requirement already satisfied: anyio<5,>=3.5.0 in .\\.venv\\lib\\site-packages (from openai<2.0.0,>=1.104.2->langchain-openai) (4.10.0)\n",
            "Requirement already satisfied: distro<2,>=1.7.0 in .\\.venv\\lib\\site-packages (from openai<2.0.0,>=1.104.2->langchain-openai) (1.9.0)\n",
            "Requirement already satisfied: httpx<1,>=0.23.0 in .\\.venv\\lib\\site-packages (from openai<2.0.0,>=1.104.2->langchain-openai) (0.28.1)\n",
            "Requirement already satisfied: jiter<1,>=0.4.0 in .\\.venv\\lib\\site-packages (from openai<2.0.0,>=1.104.2->langchain-openai) (0.11.0)\n",
            "Requirement already satisfied: sniffio in .\\.venv\\lib\\site-packages (from openai<2.0.0,>=1.104.2->langchain-openai) (1.3.1)\n",
            "Requirement already satisfied: tqdm>4 in .\\.venv\\lib\\site-packages (from openai<2.0.0,>=1.104.2->langchain-openai) (4.67.1)\n",
            "Requirement already satisfied: idna>=2.8 in .\\.venv\\lib\\site-packages (from anyio<5,>=3.5.0->openai<2.0.0,>=1.104.2->langchain-openai) (3.10)\n",
            "Requirement already satisfied: certifi in .\\.venv\\lib\\site-packages (from httpx<1,>=0.23.0->openai<2.0.0,>=1.104.2->langchain-openai) (2025.8.3)\n",
            "Requirement already satisfied: httpcore==1.* in .\\.venv\\lib\\site-packages (from httpx<1,>=0.23.0->openai<2.0.0,>=1.104.2->langchain-openai) (1.0.9)\n",
            "Requirement already satisfied: h11>=0.16 in .\\.venv\\lib\\site-packages (from httpcore==1.*->httpx<1,>=0.23.0->openai<2.0.0,>=1.104.2->langchain-openai) (0.16.0)\n",
            "Requirement already satisfied: annotated-types>=0.6.0 in .\\.venv\\lib\\site-packages (from pydantic>=2.7.4->langchain-core<1.0.0,>=0.3.76->langchain-openai) (0.7.0)\n",
            "Requirement already satisfied: pydantic-core==2.33.2 in .\\.venv\\lib\\site-packages (from pydantic>=2.7.4->langchain-core<1.0.0,>=0.3.76->langchain-openai) (2.33.2)\n",
            "Requirement already satisfied: typing-inspection>=0.4.0 in .\\.venv\\lib\\site-packages (from pydantic>=2.7.4->langchain-core<1.0.0,>=0.3.76->langchain-openai) (0.4.1)\n",
            "Requirement already satisfied: regex>=2022.1.18 in .\\.venv\\lib\\site-packages (from tiktoken<1,>=0.7->langchain-openai) (2025.9.1)\n",
            "Requirement already satisfied: requests>=2.26.0 in .\\.venv\\lib\\site-packages (from tiktoken<1,>=0.7->langchain-openai) (2.32.5)\n",
            "Requirement already satisfied: orjson>=3.9.14 in .\\.venv\\lib\\site-packages (from langsmith>=0.3.45->langchain-core<1.0.0,>=0.3.76->langchain-openai) (3.11.3)\n",
            "Requirement already satisfied: requests-toolbelt>=1.0.0 in .\\.venv\\lib\\site-packages (from langsmith>=0.3.45->langchain-core<1.0.0,>=0.3.76->langchain-openai) (1.0.0)\n",
            "Requirement already satisfied: zstandard>=0.23.0 in .\\.venv\\lib\\site-packages (from langsmith>=0.3.45->langchain-core<1.0.0,>=0.3.76->langchain-openai) (0.25.0)\n",
            "Requirement already satisfied: charset_normalizer<4,>=2 in .\\.venv\\lib\\site-packages (from requests>=2.26.0->tiktoken<1,>=0.7->langchain-openai) (3.4.3)\n",
            "Requirement already satisfied: urllib3<3,>=1.21.1 in .\\.venv\\lib\\site-packages (from requests>=2.26.0->tiktoken<1,>=0.7->langchain-openai) (2.5.0)\n",
            "Requirement already satisfied: colorama in .\\.venv\\lib\\site-packages (from tqdm>4->openai<2.0.0,>=1.104.2->langchain-openai) (0.4.6)\n",
            "Note: you may need to restart the kernel to use updated packages.\n"
          ]
        }
      ],
      "source": [
        "# Install OpenAI package (if not already installed)\n",
        "%pip install --quiet openai\n",
        "%pip install openai chromadb\n",
        "%pip install -U langchain-community\n",
        "%pip install langchain-openai"
      ]
    },
    {
      "cell_type": "code",
      "execution_count": 3,
      "metadata": {
        "id": "rL-tshLNeJZa"
      },
      "outputs": [],
      "source": [
        "\n",
        "# Import required libraries\n",
        "import getpass\n",
        "from openai import OpenAI\n",
        "\n",
        "# Ask for API key securely (you only need to do this once per Colab session)\n",
        "api_key = getpass.getpass(\"🔑 Enter your OpenAI API Key: \")\n",
        "\n",
        "# Initialize client\n",
        "client = OpenAI(api_key=api_key)"
      ]
    },
    {
      "cell_type": "code",
      "execution_count": 4,
      "metadata": {
        "id": "LAZZiq0PeLlL"
      },
      "outputs": [
        {
          "name": "stdout",
          "output_type": "stream",
          "text": [
            "\n",
            "=== LLM Response ===\n",
            "\n",
            "It seems like there might be a misunderstanding, as \"Nano Banana\" isn't a widely recognized tool or software for image editing. It's possible you meant \"GIMP\" or \"ImageMagick,\" or perhaps a different tool with a similar name.\n",
            "\n",
            "If you're looking for how to edit images using a specific software called \"nano banana\" and it exists, I would need more context about it to provide detailed steps.\n",
            "\n",
            "However, if you were referring to an image editing tool in general, I can provide you instructions on how to edit images using a popular tool like GIMP or an alternative method. Please clarify or specify the right tool, and I'll be happy to help!\n"
          ]
        }
      ],
      "source": [
        "# Import required libraries\n",
        "from openai import OpenAI\n",
        "\n",
        "\n",
        "# Ask user for a query\n",
        "#query = input(\"📝 Enter your query for GPT-5: \")\n",
        "\n",
        "query = \"tell me how can I edit image using nano banana.\"\n",
        "\n",
        "# Send request to GPT-5\n",
        "response = client.chat.completions.create(\n",
        "    model=\"gpt-4o-mini\",  # using gpt-4o-mini\n",
        "    messages=[\n",
        "        {\"role\": \"system\", \"content\": \"You are a helpful assistant.\"},\n",
        "        {\"role\": \"user\", \"content\": query}\n",
        "    ]\n",
        ")\n",
        "\n",
        "# Print response\n",
        "print(\"\\n=== LLM Response ===\\n\")\n",
        "print(response.choices[0].message.content)"
      ]
    },
    {
      "cell_type": "code",
      "execution_count": 5,
      "metadata": {},
      "outputs": [],
      "source": [
        "\n",
        "import json\n",
        "from langchain.vectorstores import Chroma\n",
        "from langchain_openai import OpenAIEmbeddings\n"
      ]
    },
    {
      "cell_type": "code",
      "execution_count": 6,
      "metadata": {},
      "outputs": [],
      "source": [
        "# Load the JSON\n",
        "with open(\"search_data.json\", \"r\", encoding=\"utf-8\") as f:\n",
        "    search_docs = json.load(f)\n",
        "\n",
        "# Extract texts from search_pages\n",
        "search_texts = [f\"{item['title']} - {item['snippet']}\" for item in search_docs['search_pages']]\n",
        "\n",
        "# Extract texts from pubmed_pages\n",
        "pubmed_texts = [f\"{item['pub_title']} - {item['abstract_snippet']}\" for item in search_docs['pubmed_pages']]\n",
        "\n",
        "\n",
        "\n",
        "# 1. Load doctor_db.json\n",
        "with open(\"doctor_db.json\", \"r\", encoding=\"utf-8\") as f:\n",
        "    doctor_data = json.load(f)\n",
        "\n",
        "doctors = doctor_data[\"doctor_db\"]\n",
        "\n",
        "# 2. Convert doctor info into text format for embeddings\n",
        "doctor_texts = [\n",
        "    f\"Name: {doc['name']}, Specialization: {doc['specialization']}, \"\n",
        "    f\"Available Timings: {doc['available_timings']}, Location: {doc['location']}, \"\n",
        "    f\"Contact: {doc['contact']}\"\n",
        "    for doc in doctors\n",
        "]\n",
        "\n"
      ]
    },
    {
      "cell_type": "code",
      "execution_count": 7,
      "metadata": {},
      "outputs": [],
      "source": [
        "# 2. Create embedding function wrapper for Chroma\n",
        "embeddings_client = OpenAIEmbeddings(\n",
        "    api_key=api_key,\n",
        "    model=\"text-embedding-3-small\"\n",
        ")"
      ]
    },
    {
      "cell_type": "code",
      "execution_count": 8,
      "metadata": {},
      "outputs": [
        {
          "name": "stdout",
          "output_type": "stream",
          "text": [
            "✅ Web search database embedded into Chroma successfully!\n",
            "✅ Pubmed database embedded into Chroma successfully!\n",
            "✅ Doctor database embedded into Chroma successfully!\n"
          ]
        }
      ],
      "source": [
        "\n",
        "# Build Chroma collection from search_pages\n",
        "web_search_db = Chroma.from_texts(\n",
        "    search_texts,\n",
        "    embedding=embeddings_client,\n",
        "    collection_name=\"web_search_db_demo2\"\n",
        ")\n",
        "print(\"✅ Web search database embedded into Chroma successfully!\")\n",
        "\n",
        "# Build another collection from pubmed_pages (optional)\n",
        "pubmed_db = Chroma.from_texts(\n",
        "    pubmed_texts,\n",
        "    embedding=embeddings_client,\n",
        "    collection_name=\"pubmed_db_demo2\"\n",
        ")\n",
        "print(\"✅ Pubmed database embedded into Chroma successfully!\")\n",
        "\n",
        "# 3. Create Chroma collection with doctor_db\n",
        "doctor_db = Chroma.from_texts(\n",
        "    texts=doctor_texts,\n",
        "    embedding=embeddings_client,\n",
        "    collection_name=\"doctor_db_demo2\"\n",
        ")\n",
        "\n",
        "print(\"✅ Doctor database embedded into Chroma successfully!\")"
      ]
    },
    {
      "cell_type": "code",
      "execution_count": 9,
      "metadata": {},
      "outputs": [
        {
          "name": "stdout",
          "output_type": "stream",
          "text": [
            "1. Diabetes mellitus: The epidemic of the century - Diabetes mellitus is a group of metabolic diseases characterized by chronic hyperglycemia resulting from defects in insulin secretion, insulin action, or both.\n",
            "\n",
            "2. Diabetes Care (journal website) - Diabetes Care publishes original research about the physiology and pathophysiology of diabetes mellitus. Submitted manuscripts can report any aspect of laboratory, clinical, epidemiologic, health services, translational research, etc.\n",
            "\n"
          ]
        }
      ],
      "source": [
        "query = \"What are the complications of diabetes?\"\n",
        "results = web_search_db.similarity_search(query, k=2)\n",
        "\n",
        "for i, res in enumerate(results, 1):\n",
        "    print(f\"{i}. {res.page_content}\\n\")"
      ]
    },
    {
      "cell_type": "code",
      "execution_count": 10,
      "metadata": {},
      "outputs": [
        {
          "name": "stdout",
          "output_type": "stream",
          "text": [
            "1. The burden and risks of emerging complications associated with diabetes mellitus - This article discusses evidence for the emergence of a different set of complications associated with diabetes mellitus from the traditional ones. These include increased risks of non‐vascular complications such as cancer, infections, neurodegenerative diseases, and liver disease in patients with long‐standing hyperglycemia.\n",
            "\n",
            "2. Diabetes mellitus: Classification, mediators, and therapeutic challenges - Diabetes mellitus is defined by persistent hyperglycemia and is commonly classified into type 1, type 2, gestational diabetes and other specific types. Key mediators include insulin resistance, β-cell dysfunction, inflammation, and lipid dysregulation. Managing these factors remains central to therapy.\n",
            "\n"
          ]
        }
      ],
      "source": [
        "query = \"What are the complications of diabetes?\"\n",
        "results = pubmed_db.similarity_search(query, k=2)\n",
        "\n",
        "for i, res in enumerate(results, 1):\n",
        "    print(f\"{i}. {res.page_content}\\n\")\n"
      ]
    },
    {
      "cell_type": "code",
      "execution_count": 11,
      "metadata": {},
      "outputs": [
        {
          "name": "stdout",
          "output_type": "stream",
          "text": [
            "1. Name: Dr. Rajesh Sharma, Specialization: Diabetologist, Available Timings: Tue-Sat, 10 AM - 5 PM, Location: Fortis Hospital, Mumbai, Contact: rajesh.sharma@fortisdoc.in\n",
            "\n",
            "2. Name: Dr. Nikhil Verma, Specialization: Diabetologist, Available Timings: Mon-Wed-Fri, 9 AM - 12 PM, Location: Ruby Hall Clinic, Pune, Contact: nikhil.verma@rubyhall.org\n",
            "\n",
            "3. Name: Dr. Neha Singh, Specialization: Diabetes Educator, Available Timings: Mon-Fri, 9 AM - 3 PM, Location: Medanta Hospital, Gurgaon, Contact: neha.singh@medantahealth.com\n",
            "\n"
          ]
        }
      ],
      "source": [
        "# 5. Example query\n",
        "query = \"Which doctors specialize in diabetology?\"\n",
        "results = doctor_db.similarity_search(query, k=3)\n",
        "\n",
        "for i, res in enumerate(results, 1):\n",
        "    print(f\"{i}. {res.page_content}\\n\")"
      ]
    },
    {
      "cell_type": "code",
      "execution_count": 12,
      "metadata": {},
      "outputs": [],
      "source": [
        "from langchain.agents import tool\n",
        "from langchain.schema import Document\n",
        "\n",
        "@tool(\"web_search_tool\", return_direct=False)\n",
        "def web_search_tool(query: str) -> str:\n",
        "    \"\"\"Search the Web Search DB for information about diabetes and related topics.\"\"\"\n",
        "    results = web_search_db.similarity_search(query, k=3)\n",
        "    return \"\\n\\n\".join([doc.page_content for doc in results])\n",
        "\n",
        "@tool(\"pubmed_tool\", return_direct=False)\n",
        "def pubmed_tool(query: str) -> str:\n",
        "    \"\"\"Search the PubMed DB for scientific research on diabetes.\"\"\"\n",
        "    results = pubmed_db.similarity_search(query, k=3)\n",
        "    return \"\\n\\n\".join([doc.page_content for doc in results])\n",
        "\n",
        "@tool(\"doctor_db_tool\", return_direct=False)\n",
        "def doctor_db_tool(query: str) -> str:\n",
        "    \"\"\"Search the Doctor DB for information about doctors, specializations, timings, and locations.\"\"\"\n",
        "    results = doctor_db.similarity_search(query, k=3)\n",
        "    return \"\\n\\n\".join([doc.page_content for doc in results])\n"
      ]
    },
    {
      "cell_type": "code",
      "execution_count": 16,
      "metadata": {},
      "outputs": [],
      "source": [
        "from langchain_openai import ChatOpenAI\n",
        "from langchain.agents import initialize_agent, AgentType\n",
        "\n",
        "# Define LLM\n",
        "llm = ChatOpenAI(\n",
        "    model=\"gpt-4o-mini\",\n",
        "    temperature=0,\n",
        "    api_key=api_key\n",
        ")\n",
        "\n",
        "# Collect tools\n",
        "tools = [web_search_tool, pubmed_tool, doctor_db_tool]\n",
        "\n",
        "# Create agent\n",
        "agent = initialize_agent(\n",
        "    tools=tools,\n",
        "    llm=llm,\n",
        "    agent=AgentType.ZERO_SHOT_REACT_DESCRIPTION,\n",
        "    verbose=True\n",
        ")\n"
      ]
    },
    {
      "cell_type": "code",
      "execution_count": 17,
      "metadata": {},
      "outputs": [
        {
          "name": "stderr",
          "output_type": "stream",
          "text": [
            "C:\\Users\\kunta\\AppData\\Local\\Temp\\ipykernel_9476\\318134953.py:1: LangChainDeprecationWarning: The method `Chain.run` was deprecated in langchain 0.1.0 and will be removed in 1.0. Use :meth:`~invoke` instead.\n",
            "  response = agent.run(\"Find me research about complications of diabetes and also suggest a doctor in Delhi who specializes in endocrinology.\")\n"
          ]
        },
        {
          "name": "stdout",
          "output_type": "stream",
          "text": [
            "\n",
            "\n",
            "\u001b[1m> Entering new AgentExecutor chain...\u001b[0m\n",
            "\u001b[32;1m\u001b[1;3mI need to gather information on the complications of diabetes through scientific research and also find a specialist doctor in Delhi who focuses on endocrinology. \n",
            "\n",
            "Action: pubmed_tool  \n",
            "Action Input: complications of diabetes  \u001b[0m\n",
            "Observation: \u001b[33;1m\u001b[1;3mThe burden and risks of emerging complications associated with diabetes mellitus - This article discusses evidence for the emergence of a different set of complications associated with diabetes mellitus from the traditional ones. These include increased risks of non‐vascular complications such as cancer, infections, neurodegenerative diseases, and liver disease in patients with long‐standing hyperglycemia.\n",
            "\n",
            "Diabetes mellitus: Classification, mediators, and therapeutic challenges - Diabetes mellitus is defined by persistent hyperglycemia and is commonly classified into type 1, type 2, gestational diabetes and other specific types. Key mediators include insulin resistance, β-cell dysfunction, inflammation, and lipid dysregulation. Managing these factors remains central to therapy.\u001b[0m\n",
            "Thought:\u001b[32;1m\u001b[1;3mI have found relevant research articles discussing the complications associated with diabetes, including non-vascular complications like cancer and infections. Now, I need to find a doctor in Delhi who specializes in endocrinology.\n",
            "\n",
            "Action: doctor_db_tool  \n",
            "Action Input: endocrinology specialist in Delhi  \u001b[0m\n",
            "Observation: \u001b[38;5;200m\u001b[1;3mName: Dr. Anjali Mehta, Specialization: Endocrinologist, Available Timings: Mon-Fri, 9 AM - 2 PM, Location: Apollo Hospital, Delhi, Contact: anjali.mehta@endoclinic.com\n",
            "\n",
            "Name: Dr. Arvind Nair, Specialization: Endocrinologist, Available Timings: Mon-Fri, 8 AM - 1 PM, Location: AIIMS, New Delhi, Contact: arvind.nair@aiimsmed.edu\n",
            "\n",
            "Name: Dr. Ramesh Iyer, Specialization: Endocrinologist, Available Timings: Mon-Sat, 10 AM - 5 PM, Location: Manipal Hospital, Chennai, Contact: ramesh.iyer@manipalclinic.org\u001b[0m\n",
            "Thought:\u001b[32;1m\u001b[1;3mI have found two endocrinologists in Delhi, Dr. Anjali Mehta and Dr. Arvind Nair, along with their contact information and timings. Now I can summarize the findings.\n",
            "\n",
            "Final Answer: Research indicates that diabetes can lead to various complications, including non-vascular issues such as cancer, infections, and neurodegenerative diseases. For endocrinology specialists in Delhi, you can consult Dr. Anjali Mehta at Apollo Hospital (Mon-Fri, 9 AM - 2 PM) or Dr. Arvind Nair at AIIMS (Mon-Fri, 8 AM - 1 PM).\u001b[0m\n",
            "\n",
            "\u001b[1m> Finished chain.\u001b[0m\n",
            "Research indicates that diabetes can lead to various complications, including non-vascular issues such as cancer, infections, and neurodegenerative diseases. For endocrinology specialists in Delhi, you can consult Dr. Anjali Mehta at Apollo Hospital (Mon-Fri, 9 AM - 2 PM) or Dr. Arvind Nair at AIIMS (Mon-Fri, 8 AM - 1 PM).\n"
          ]
        }
      ],
      "source": [
        "response = agent.run(\"Find me research about complications of diabetes and also suggest a doctor in Delhi who specializes in endocrinology.\")\n",
        "print(response)\n"
      ]
    }
  ],
  "metadata": {
    "colab": {
      "authorship_tag": "ABX9TyPWZLERrWpIWDMMGGc75oPQ",
      "include_colab_link": true,
      "provenance": []
    },
    "kernelspec": {
      "display_name": ".venv (3.13.7)",
      "language": "python",
      "name": "python3"
    },
    "language_info": {
      "codemirror_mode": {
        "name": "ipython",
        "version": 3
      },
      "file_extension": ".py",
      "mimetype": "text/x-python",
      "name": "python",
      "nbconvert_exporter": "python",
      "pygments_lexer": "ipython3",
      "version": "3.13.7"
    }
  },
  "nbformat": 4,
  "nbformat_minor": 0
}
