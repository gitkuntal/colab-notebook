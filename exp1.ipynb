{
  "nbformat": 4,
  "nbformat_minor": 0,
  "metadata": {
    "colab": {
      "provenance": [],
      "authorship_tag": "ABX9TyPWZLERrWpIWDMMGGc75oPQ",
      "include_colab_link": true
    },
    "kernelspec": {
      "name": "python3",
      "display_name": "Python 3"
    },
    "language_info": {
      "name": "python"
    }
  },
  "cells": [
    {
      "cell_type": "markdown",
      "metadata": {
        "id": "view-in-github",
        "colab_type": "text"
      },
      "source": [
        "<a href=\"https://colab.research.google.com/github/gitkuntal/colab-notebook/blob/master/exp1.ipynb\" target=\"_parent\"><img src=\"https://colab.research.google.com/assets/colab-badge.svg\" alt=\"Open In Colab\"/></a>"
      ]
    },
    {
      "cell_type": "code",
      "execution_count": null,
      "metadata": {
        "colab": {
          "base_uri": "https://localhost:8080/"
        },
        "id": "TTAvwjnL8kJw",
        "outputId": "05a9595c-8965-4bcd-bf8b-4fb691e2cc99"
      },
      "outputs": [
        {
          "output_type": "stream",
          "name": "stdout",
          "text": [
            "Hello world!!\n"
          ]
        }
      ],
      "source": [
        "print(\"Hello world!!\")"
      ]
    },
    {
      "cell_type": "code",
      "source": [
        "# Install OpenAI package (if not already installed)\n",
        "!pip install --quiet openai"
      ],
      "metadata": {
        "id": "uMS5ImfieIn9"
      },
      "execution_count": null,
      "outputs": []
    },
    {
      "cell_type": "code",
      "source": [
        "\n",
        "# Import required libraries\n",
        "import getpass\n",
        "from openai import OpenAI\n",
        "\n",
        "# Ask for API key securely (you only need to do this once per Colab session)\n",
        "api_key = getpass.getpass(\"🔑 Enter your OpenAI API Key: \")\n",
        "\n",
        "# Initialize client\n",
        "client = OpenAI(api_key=api_key)"
      ],
      "metadata": {
        "id": "rL-tshLNeJZa"
      },
      "execution_count": null,
      "outputs": []
    },
    {
      "cell_type": "code",
      "source": [
        "# Import required libraries\n",
        "from openai import OpenAI\n",
        "\n",
        "\n",
        "# Ask user for a query\n",
        "#query = input(\"📝 Enter your query for GPT-5: \")\n",
        "\n",
        "query = \"Tell me a long history of Hyderabad\"\n",
        "\n",
        "# Send request to GPT-5\n",
        "response = client.chat.completions.create(\n",
        "    model=\"gpt-4o-mini\",  # using gpt-4o-mini\n",
        "    messages=[\n",
        "        {\"role\": \"system\", \"content\": \"You are a helpful assistant.\"},\n",
        "        {\"role\": \"user\", \"content\": query}\n",
        "    ]\n",
        ")\n",
        "\n",
        "# Print response\n",
        "print(\"\\n=== LLM Response ===\\n\")\n",
        "print(response.choices[0].message.content)"
      ],
      "metadata": {
        "id": "LAZZiq0PeLlL"
      },
      "execution_count": null,
      "outputs": []
    }
  ]
}