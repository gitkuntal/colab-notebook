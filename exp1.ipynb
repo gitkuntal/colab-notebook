{
  "cells": [
    {
      "cell_type": "markdown",
      "metadata": {
        "colab_type": "text",
        "id": "view-in-github"
      },
      "source": [
        "<a href=\"https://colab.research.google.com/github/gitkuntal/colab-notebook/blob/master/exp1.ipynb\" target=\"_parent\"><img src=\"https://colab.research.google.com/assets/colab-badge.svg\" alt=\"Open In Colab\"/></a>"
      ]
    },
    {
      "cell_type": "code",
      "execution_count": 1,
      "metadata": {
        "colab": {
          "base_uri": "https://localhost:8080/"
        },
        "id": "TTAvwjnL8kJw",
        "outputId": "05a9595c-8965-4bcd-bf8b-4fb691e2cc99"
      },
      "outputs": [
        {
          "name": "stdout",
          "output_type": "stream",
          "text": [
            "Hello world!!\n"
          ]
        }
      ],
      "source": [
        "print(\"Hello world!!\")"
      ]
    },
    {
      "cell_type": "code",
      "execution_count": null,
      "metadata": {
        "id": "uMS5ImfieIn9"
      },
      "outputs": [],
      "source": [
        "# Install OpenAI package (if not already installed)\n",
        "!pip install --quiet openai\n",
        "!pip install openai chromadb\n",
        "!pip install -U langchain-community\n",
        "!pip install langchain-openai"
      ]
    },
    {
      "cell_type": "code",
      "execution_count": null,
      "metadata": {
        "id": "rL-tshLNeJZa"
      },
      "outputs": [],
      "source": [
        "\n",
        "# Import required libraries\n",
        "import getpass\n",
        "from openai import OpenAI\n",
        "\n",
        "# Ask for API key securely (you only need to do this once per Colab session)\n",
        "api_key = getpass.getpass(\"🔑 Enter your OpenAI API Key: \")\n",
        "#api_key = \"\"\n",
        "\n",
        "# Initialize client\n",
        "client = OpenAI(api_key=api_key)"
      ]
    },
    {
      "cell_type": "code",
      "execution_count": 2,
      "metadata": {
        "id": "LAZZiq0PeLlL"
      },
      "outputs": [
        {
          "name": "stdout",
          "output_type": "stream",
          "text": [
            "\n",
            "=== LLM Response ===\n",
            "\n",
            "\"Nano banana\" is likely a humorous or playful term referring to the image editing software \"GIMP\" (GNU Image Manipulation Program) due to its logo, which features a character that resembles a cartoon banana. If you meant a specific tool or library, please clarify. However, I'll provide some general guidance on how to edit images using GIMP.\n",
            "\n",
            "### How to Edit Images Using GIMP\n",
            "\n",
            "1. **Install GIMP**:\n",
            "   - Download GIMP from [the official GIMP website](https://www.gimp.org/downloads/).\n",
            "   - Follow the installation instructions for your operating system.\n",
            "\n",
            "2. **Open GIMP**:\n",
            "   - Launch GIMP after it’s installed.\n",
            "\n",
            "3. **Open an Image**:\n",
            "   - Go to `File` > `Open` or simply drag and drop your image file into the GIMP window.\n",
            "\n",
            "4. **Basic Editing Tools**:\n",
            "   - **Selection Tools**: Use the selection tools (rectangle, ellipse, free select, fuzzy select) to select parts of the image you want to edit.\n",
            "   - **Brush Tool**: Use the paintbrush tool to draw or paint on the image.\n",
            "   - **Eraser Tool**: Erase parts of the image or undo previous paint operations.\n",
            "   - **Clone Tool**: Clone parts of the image to cover up areas or create interesting effects.\n",
            "   - **Text Tool**: Add text to your image by selecting the Text tool and clicking on the canvas.\n",
            "\n",
            "5. **Adjust Colors and Contrast**:\n",
            "   - Go to `Colors` in the menu bar to adjust brightness, contrast, saturation, levels, and curves.\n",
            "\n",
            "6. **Crop or Resize**:\n",
            "   - Use the crop tool to cut unwanted areas of the image.\n",
            "   - To resize, go to `Image` > `Scale Image`, and adjust the dimensions.\n",
            "\n",
            "7. **Filters and Effects**:\n",
            "   - Explore the `Filters` menu for various effects (blur, sharpen, distort, etc.) that you can apply to your image.\n",
            "\n",
            "8. **Save Your Work**:\n",
            "   - To save your edited image, go to `File` > `Export As...` to save it in a different format (like JPEG, PNG, etc.). For GIMP’s native format (with layers), use `File` > `Save As...`.\n",
            "\n",
            "9. **Undoing Changes**:\n",
            "   - If you make a mistake, you can always undo changes by going to `Edit` > `Undo` or using the shortcut `Ctrl+Z`.\n",
            "\n",
            "### Additional Resources:\n",
            "- **Tutorials**: There are many tutorials available on the GIMP website and platforms like YouTube to help you learn how to use specific tools.\n",
            "- **Documentation**: Check the GIMP documentation [here](https://docs.gimp.org/) for detailed instructions on specific features.\n",
            "\n",
            "If you meant a different tool or had specific edits in mind, feel free to clarify!\n"
          ]
        }
      ],
      "source": [
        "# Import required libraries\n",
        "from openai import OpenAI\n",
        "\n",
        "\n",
        "# Ask user for a query\n",
        "#query = input(\"📝 Enter your query for GPT-5: \")\n",
        "\n",
        "query = \"tell me how can I edit image using nano banana.\"\n",
        "\n",
        "# Send request to GPT-5\n",
        "response = client.chat.completions.create(\n",
        "    model=\"gpt-4o-mini\",  # using gpt-4o-mini\n",
        "    messages=[\n",
        "        {\"role\": \"system\", \"content\": \"You are a helpful assistant.\"},\n",
        "        {\"role\": \"user\", \"content\": query}\n",
        "    ]\n",
        ")\n",
        "\n",
        "# Print response\n",
        "print(\"\\n=== LLM Response ===\\n\")\n",
        "print(response.choices[0].message.content)"
      ]
    },
    {
      "cell_type": "code",
      "execution_count": 32,
      "metadata": {},
      "outputs": [],
      "source": [
        "\n",
        "import json\n",
        "from langchain.vectorstores import Chroma\n",
        "from langchain_openai import OpenAIEmbeddings\n"
      ]
    },
    {
      "cell_type": "code",
      "execution_count": 33,
      "metadata": {},
      "outputs": [],
      "source": [
        "# Load the JSON\n",
        "with open(\"search_data.json\", \"r\", encoding=\"utf-8\") as f:\n",
        "    search_docs = json.load(f)\n",
        "\n",
        "# Extract texts from search_pages\n",
        "search_texts = [f\"{item['title']} - {item['snippet']}\" for item in search_docs['search_pages']]\n",
        "\n",
        "# Extract texts from pubmed_pages\n",
        "pubmed_texts = [f\"{item['pub_title']} - {item['abstract_snippet']}\" for item in search_docs['pubmed_pages']]"
      ]
    },
    {
      "cell_type": "code",
      "execution_count": 40,
      "metadata": {},
      "outputs": [],
      "source": [
        "# 2. Create embedding function wrapper for Chroma\n",
        "embeddings_client = OpenAIEmbeddings(\n",
        "    api_key=api_key,\n",
        "    model=\"text-embedding-3-small\"\n",
        ")"
      ]
    },
    {
      "cell_type": "code",
      "execution_count": 41,
      "metadata": {},
      "outputs": [],
      "source": [
        "\n",
        "# Build Chroma collection from search_pages\n",
        "web_search_db = Chroma.from_texts(\n",
        "    search_texts,\n",
        "    embedding=embeddings_client,\n",
        "    collection_name=\"web_search_db_demo2\"\n",
        ")\n",
        "\n",
        "# Build another collection from pubmed_pages (optional)\n",
        "pubmed_db = Chroma.from_texts(\n",
        "    pubmed_texts,\n",
        "    embedding=embeddings_client,\n",
        "    collection_name=\"pubmed_db_demo2\"\n",
        ")"
      ]
    },
    {
      "cell_type": "code",
      "execution_count": 43,
      "metadata": {},
      "outputs": [
        {
          "name": "stdout",
          "output_type": "stream",
          "text": [
            "1. Diabetes mellitus: The epidemic of the century - Diabetes mellitus is a group of metabolic diseases characterized by chronic hyperglycemia resulting from defects in insulin secretion, insulin action, or both.\n",
            "\n",
            "2. Diabetes Care (journal website) - Diabetes Care publishes original research about the physiology and pathophysiology of diabetes mellitus. Submitted manuscripts can report any aspect of laboratory, clinical, epidemiologic, health services, translational research, etc.\n",
            "\n"
          ]
        }
      ],
      "source": [
        "query = \"What are the complications of diabetes?\"\n",
        "results = web_search_db.similarity_search(query, k=2)\n",
        "\n",
        "for i, res in enumerate(results, 1):\n",
        "    print(f\"{i}. {res.page_content}\\n\")"
      ]
    },
    {
      "cell_type": "code",
      "execution_count": 42,
      "metadata": {},
      "outputs": [
        {
          "name": "stdout",
          "output_type": "stream",
          "text": [
            "1. The burden and risks of emerging complications associated with diabetes mellitus - This article discusses evidence for the emergence of a different set of complications associated with diabetes mellitus from the traditional ones. These include increased risks of non‐vascular complications such as cancer, infections, neurodegenerative diseases, and liver disease in patients with long‐standing hyperglycemia.\n",
            "\n",
            "2. Diabetes mellitus: Classification, mediators, and therapeutic challenges - Diabetes mellitus is defined by persistent hyperglycemia and is commonly classified into type 1, type 2, gestational diabetes and other specific types. Key mediators include insulin resistance, β-cell dysfunction, inflammation, and lipid dysregulation. Managing these factors remains central to therapy.\n",
            "\n"
          ]
        }
      ],
      "source": [
        "query = \"What are the complications of diabetes?\"\n",
        "results = pubmed_db.similarity_search(query, k=2)\n",
        "\n",
        "for i, res in enumerate(results, 1):\n",
        "    print(f\"{i}. {res.page_content}\\n\")\n"
      ]
    }
  ],
  "metadata": {
    "colab": {
      "authorship_tag": "ABX9TyPWZLERrWpIWDMMGGc75oPQ",
      "include_colab_link": true,
      "provenance": []
    },
    "kernelspec": {
      "display_name": ".venv (3.13.7)",
      "language": "python",
      "name": "python3"
    },
    "language_info": {
      "codemirror_mode": {
        "name": "ipython",
        "version": 3
      },
      "file_extension": ".py",
      "mimetype": "text/x-python",
      "name": "python",
      "nbconvert_exporter": "python",
      "pygments_lexer": "ipython3",
      "version": "3.13.7"
    }
  },
  "nbformat": 4,
  "nbformat_minor": 0
}
